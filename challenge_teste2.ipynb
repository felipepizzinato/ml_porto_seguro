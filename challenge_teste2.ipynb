{
  "nbformat": 4,
  "nbformat_minor": 0,
  "metadata": {
    "colab": {
      "provenance": [],
      "authorship_tag": "ABX9TyOb0NnoF/u2le/nXJnyOh0e",
      "include_colab_link": true
    },
    "kernelspec": {
      "name": "python3",
      "display_name": "Python 3"
    },
    "language_info": {
      "name": "python"
    }
  },
  "cells": [
    {
      "cell_type": "markdown",
      "metadata": {
        "id": "view-in-github",
        "colab_type": "text"
      },
      "source": [
        "<a href=\"https://colab.research.google.com/github/felipepizzinato/ml_porto_seguro/blob/main/challenge_teste2.ipynb\" target=\"_parent\"><img src=\"https://colab.research.google.com/assets/colab-badge.svg\" alt=\"Open In Colab\"/></a>"
      ]
    },
    {
      "cell_type": "code",
      "execution_count": null,
      "metadata": {
        "colab": {
          "base_uri": "https://localhost:8080/"
        },
        "id": "tf0YEL9_bCSN",
        "outputId": "03a36158-4300-400c-ea9f-7345870fa3b8"
      },
      "outputs": [
        {
          "output_type": "stream",
          "name": "stdout",
          "text": [
            "Mounted at /content/drive\n"
          ]
        }
      ],
      "source": [
        "from google.colab import drive\n",
        "drive.mount('/content/drive')"
      ]
    },
    {
      "cell_type": "code",
      "source": [
        "# Importar as bibliotecas necessárias\n",
        "import pickle\n",
        "\n",
        "# Carregar o vetor TF-IDF salvo\n",
        "with open('/content/drive/MyDrive/tfidf_vectorizer.pkl', 'rb') as f:\n",
        "    vectorizer = pickle.load(f)\n",
        "\n",
        "# Carregar o modelo Random Forest salvo\n",
        "with open('/content/drive/MyDrive/modelo_random_forest2.pkl', 'rb') as f:\n",
        "    modelo_carregado = pickle.load(f)"
      ],
      "metadata": {
        "id": "qknNBRIMbHFJ"
      },
      "execution_count": null,
      "outputs": []
    },
    {
      "cell_type": "code",
      "source": [
        "# Exemplo de frase fornecida pelo usuário\n",
        "frase_usuario = [\"meu carro não anda\"]  # A frase que o usuário inserir\n",
        "\n",
        "# Transformar a frase em vetor numérico usando o TF-IDF\n",
        "frase_vetorizada = vectorizer.transform(frase_usuario)\n",
        "\n",
        "# Fazer a previsão com o modelo carregado\n",
        "previsao = modelo_carregado.predict(frase_vetorizada)\n",
        "print(f\"O problema previsto é: {previsao[0]}\")\n"
      ],
      "metadata": {
        "colab": {
          "base_uri": "https://localhost:8080/"
        },
        "id": "bDsJn_xabRpN",
        "outputId": "32f9cd56-8897-49b1-8925-5752415b6cd6"
      },
      "execution_count": null,
      "outputs": [
        {
          "output_type": "stream",
          "name": "stdout",
          "text": [
            "O problema previsto é: PROBLEMAS DE SISTEMA ARREFECIMENTO\n"
          ]
        }
      ]
    },
    {
      "cell_type": "code",
      "source": [
        "frases_para_testar = [\n",
        "    \"O carro está aquecendo demais\",\n",
        "    \"A luz de freio está acesa\",\n",
        "    \"O motor está falhando ao ligar\",\n",
        "    \"O carro faz barulho ao dirigir\"\n",
        "]\n",
        "\n",
        "for frase in frases_para_testar:\n",
        "    frase_vetorizada = vectorizer.transform([frase])\n",
        "    previsao = modelo_carregado.predict(frase_vetorizada)\n",
        "    print(f\"Frase: {frase} => Problema previsto: {previsao[0]}\")"
      ],
      "metadata": {
        "colab": {
          "base_uri": "https://localhost:8080/"
        },
        "id": "nbNvTvmTbZr_",
        "outputId": "fd6802e0-0d8a-4c68-b8c5-ed1fd311ccc2"
      },
      "execution_count": null,
      "outputs": [
        {
          "output_type": "stream",
          "name": "stdout",
          "text": [
            "Frase: O carro está aquecendo demais => Problema previsto: PROBLEMAS DE SISTEMA ARREFECIMENTO\n",
            "Frase: A luz de freio está acesa => Problema previsto: PROBLEMAS COM FREIO\n",
            "Frase: O motor está falhando ao ligar => Problema previsto: PROBLEMAS DE MOTOR\n",
            "Frase: O carro faz barulho ao dirigir => Problema previsto: PROBLEMAS DE SUSPENSÃO E DIREÇÃO\n"
          ]
        }
      ]
    }
  ]
}